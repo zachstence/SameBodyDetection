{
 "cells": [
  {
   "cell_type": "code",
   "execution_count": 1,
   "metadata": {},
   "outputs": [],
   "source": [
    "import scipy.io as scipy\n",
    "import numpy as np\n",
    "import time\n",
    "import matplotlib.pyplot as plt"
   ]
  },
  {
   "cell_type": "markdown",
   "metadata": {},
   "source": [
    "# DATASET INFO\n",
    "* each row contains data of one subject -> 30 rows\n",
    "  * each subject has accel data, gender, age, height, weight -> 5 fields\n",
    "    * each field is a 2D numpy array containing the specified information\n",
    "      * accel data  - an array of 17 activities (one for each recorded activity) each in a numpy array\n",
    "        * each activity consists of either 2 or 6 trials \n",
    "          * each trial consists of 6 rows\n",
    "            * x-axis acceleration\n",
    "            * y-axis acceleration\n",
    "            * z-axis acceleration\n",
    "            * time in nanoseconds\n",
    "            * time in seconds\n",
    "            * magnitude of acceleration\n",
    "      * gender      - a character (M/F)\n",
    "      * age         - an unsiged 8-bit integer\n",
    "      * height      - an unsiged 8-bit integer\n",
    "      * weight      - an unsiged 8-bit integer"
   ]
  },
  {
   "cell_type": "code",
   "execution_count": null,
   "metadata": {},
   "outputs": [],
   "source": [
    "# List of activities in dataset\n",
    "# ACTIVITIES = ['StandingUpFS',\n",
    "#               'StandingUpFL',\n",
    "#               'Walking',\n",
    "#               'Running',\n",
    "#               'GoingUpS',\n",
    "#               'Jumping',\n",
    "#               'GoingDownS',\n",
    "#               'LyingDownFS',\n",
    "#               'SittingDown',\n",
    "#               'FallingForw',\n",
    "#               'FallingRight',\n",
    "#               'FallingBack',\n",
    "#               'HittingObstacle',\n",
    "#               'FallingWithPS',\n",
    "#               'FallingBackSC',\n",
    "#               'Syncope',\n",
    "#               'FallingLeft']"
   ]
  }
 ],
 "metadata": {
  "kernelspec": {
   "display_name": "Python 3",
   "language": "python",
   "name": "python3"
  },
  "language_info": {
   "codemirror_mode": {
    "name": "ipython",
    "version": 3
   },
   "file_extension": ".py",
   "mimetype": "text/x-python",
   "name": "python",
   "nbconvert_exporter": "python",
   "pygments_lexer": "ipython3",
   "version": "3.5.2"
  }
 },
 "nbformat": 4,
 "nbformat_minor": 2
}
