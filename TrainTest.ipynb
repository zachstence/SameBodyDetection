{
 "cells": [
  {
   "cell_type": "code",
   "execution_count": 6,
   "metadata": {},
   "outputs": [],
   "source": [
    "import numpy as np"
   ]
  },
  {
   "cell_type": "code",
   "execution_count": 7,
   "metadata": {},
   "outputs": [],
   "source": [
    "def balance_data(data):\n",
    "    true_data = []\n",
    "    false_data = []\n",
    "    for row in data:\n",
    "        row = list(row)\n",
    "        if row[1] == True:\n",
    "            true_data.append(row)\n",
    "        else:\n",
    "            false_data.append(row)\n",
    "    true_length = len(true_data)\n",
    "    \n",
    "    np.random.shuffle(false_data)\n",
    "    false_data = false_data[:true_length]\n",
    "    \n",
    "    all_data = true_data + false_data\n",
    "    return all_data\n",
    "\n",
    "def get_train_test(data, ratio):\n",
    "    data = balance_data(data)\n",
    "    np.random.shuffle(data)\n",
    "    \n",
    "    i = int(ratio * len(data))\n",
    "    train = data[:i]\n",
    "    test = data[i:]\n",
    "    \n",
    "    x_train = [ row[0] for row in train ]\n",
    "    y_train = [ row[1] for row in train ]\n",
    "    \n",
    "    x_test = [ row[0] for row in test ]\n",
    "    y_test = [ row[1] for row in test ]\n",
    "    \n",
    "    return x_train, y_train, x_test, y_test"
   ]
  }
 ],
 "metadata": {
  "kernelspec": {
   "display_name": "Python 3",
   "language": "python",
   "name": "python3"
  },
  "language_info": {
   "codemirror_mode": {
    "name": "ipython",
    "version": 3
   },
   "file_extension": ".py",
   "mimetype": "text/x-python",
   "name": "python",
   "nbconvert_exporter": "python",
   "pygments_lexer": "ipython3",
   "version": "3.5.2"
  }
 },
 "nbformat": 4,
 "nbformat_minor": 2
}
