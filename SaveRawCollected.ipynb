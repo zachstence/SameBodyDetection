{
 "cells": [
  {
   "cell_type": "code",
   "execution_count": 3,
   "metadata": {},
   "outputs": [],
   "source": [
    "import numpy as np\n",
    "from math import sqrt\n",
    "data = np.genfromtxt('./data/collected raw/zach_left.csv', delimiter=',')\n",
    "\n",
    "def get_magnitude(x, y, z):\n",
    "    m = []\n",
    "    for i in range(len(x)):\n",
    "        m_i = sqrt(x[i]**2 + y[i]**2 + z[i]**2)\n",
    "        m.append(m_i)\n",
    "    return m\n",
    "\n",
    "new_data = []\n",
    "for name in ['zach', 'Torry']:\n",
    "    person = []\n",
    "    for num in ['', '_(1)', '_(2)', '_(3)', '_(4)', '_(5)']:\n",
    "        trial = []\n",
    "        for pocket in ['left', 'right']:\n",
    "            filename = './data/collected raw/{}_{}{}.csv'.format(name, pocket, num)\n",
    "            data = genfromtxt(filename, delimiter=',')\n",
    "            x = data[:,10]\n",
    "            y = data[:,11]\n",
    "            z = data[:,12]\n",
    "            m = get_magnitude(x, y, z)\n",
    "            trial.append(m)\n",
    "        person.append(trial)\n",
    "    new_data.append(person)\n",
    "\n",
    "np.save('./data/collected raw/full_data_raw.npy', new_data)            "
   ]
  }
 ],
 "metadata": {
  "kernelspec": {
   "display_name": "Python 3",
   "language": "python",
   "name": "python3"
  },
  "language_info": {
   "codemirror_mode": {
    "name": "ipython",
    "version": 3
   },
   "file_extension": ".py",
   "mimetype": "text/x-python",
   "name": "python",
   "nbconvert_exporter": "python",
   "pygments_lexer": "ipython3",
   "version": "3.5.2"
  }
 },
 "nbformat": 4,
 "nbformat_minor": 2
}
