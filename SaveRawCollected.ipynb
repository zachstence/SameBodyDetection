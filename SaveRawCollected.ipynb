{
 "cells": [
  {
   "cell_type": "markdown",
   "metadata": {},
   "source": [
    "SaveRawCollected\n",
    "=====\n",
    "***\n",
    "\n",
    "This notebook loops through each raw `.csv` file and concatenates them into an organized data structure. The cleaning/trimming of the data is done in `CleanRawData`.\n",
    "\n",
    "First, we import the modules needed to process the raw data.\n",
    "* `numpy` is necessary for saving the final multidimensional list as a `.npy` file that can be easily loaded for analysis later.\n",
    "* `math.sqrt` takes the square root of a number and is used for calculating magnitude given *x*, *y*, and *z*."
   ]
  },
  {
   "cell_type": "code",
   "execution_count": 16,
   "metadata": {},
   "outputs": [],
   "source": [
    "import numpy as np\n",
    "from math import sqrt"
   ]
  },
  {
   "cell_type": "markdown",
   "metadata": {},
   "source": [
    "Then, we define a function to calculate the magnitude stream of the acceleration given the *x*, *y*, and *z* streams (since our analysis uses mainly the magnitude). "
   ]
  },
  {
   "cell_type": "code",
   "execution_count": 17,
   "metadata": {},
   "outputs": [],
   "source": [
    "def get_magnitude(x, y, z):\n",
    "    m = []\n",
    "    for i in range(len(x)):\n",
    "        m_i = sqrt(x[i]**2 + y[i]**2 + z[i]**2)\n",
    "        m.append(m_i)\n",
    "    return m"
   ]
  },
  {
   "cell_type": "markdown",
   "metadata": {},
   "source": [
    "Last, we loop through all of the possible file names, extract the time, x-, y-, and z-accelerations, calculate the magnitude, and append it all to a list. All of this information is organized in the multidimensional list `data` as follows:\n",
    "\n",
    "$$\n",
    "    \\text{data} = \\begin{bmatrix}\n",
    "        \\begin{bmatrix}\n",
    "            \\left[\\ [\\text{time}, \\text{x}, \\text{y}, \\text{z}, \\text{magnitude}],\\ [\\text{time}, \\text{x}, \\text{y}, \\text{z}, \\text{magnitude}]\\ \\right]\\\\\n",
    "            \\vdots\\\\\n",
    "            \\vdots\\\\\n",
    "            \\vdots\\\\\n",
    "            \\vdots\\\\\n",
    "            \\vdots\\\\\n",
    "        \\end{bmatrix},\\\\\n",
    "        \\begin{bmatrix}\n",
    "            \\left[\\ [\\text{time}, \\text{x}, \\text{y}, \\text{z}, \\text{magnitude}],\\ [\\text{time}, \\text{x}, \\text{y}, \\text{z}, \\text{magnitude}]\\ \\right]\\\\\n",
    "            \\vdots\\\\\n",
    "            \\vdots\\\\\n",
    "            \\vdots\\\\\n",
    "            \\vdots\\\\\n",
    "            \\vdots\\\\\n",
    "        \\end{bmatrix}\n",
    "    \\end{bmatrix}\n",
    "$$\n",
    "The first index selects the person (`0 : Zach`, `1 : Torry`), the second selects the trial (0 - 6), the third selects the pocket (`0 : left`, `1 : right`) and the last selects the data stream (`0 : time (unix)`, `1 : x`, `2 : y`, `3 : z`, `4 : magnitude`). \n",
    "\n",
    "(Since our analysis is only concerned with data collected from the accelerometers, we are only interested in columns 10, 11, and 12 of the CSV spreadsheet. However, much more data was simultaneously collected from other sensors and can be used for other purposes if desired.)"
   ]
  },
  {
   "cell_type": "code",
   "execution_count": 18,
   "metadata": {},
   "outputs": [],
   "source": [
    "accel_data = []\n",
    "for name in ['zach', 'Torry']:\n",
    "    person = []\n",
    "    for num in ['', '_(1)', '_(2)', '_(3)', '_(4)', '_(5)']:\n",
    "        trial = []\n",
    "        for pocket in ['left', 'right']:\n",
    "            filename = './data/collected_raw/{}_{}{}.csv'.format(name, pocket, num)\n",
    "            data = np.genfromtxt(filename, delimiter=',')\n",
    "            t = data[:,0]\n",
    "            x = data[:,10]\n",
    "            y = data[:,11]\n",
    "            z = data[:,12]\n",
    "            m = get_magnitude(x, y, z)\n",
    "            \n",
    "            trial.append([t, x, y, z, m])\n",
    "            \n",
    "        person.append(trial)\n",
    "        \n",
    "    accel_data.append(person)\n",
    "\n",
    "np.save('./data/collected_raw/accel_data_raw.npy', accel_data)            "
   ]
  }
 ],
 "metadata": {
  "kernelspec": {
   "display_name": "Python 3",
   "language": "python",
   "name": "python3"
  },
  "language_info": {
   "codemirror_mode": {
    "name": "ipython",
    "version": 3
   },
   "file_extension": ".py",
   "mimetype": "text/x-python",
   "name": "python",
   "nbconvert_exporter": "python",
   "pygments_lexer": "ipython3",
   "version": "3.5.2"
  }
 },
 "nbformat": 4,
 "nbformat_minor": 2
}
