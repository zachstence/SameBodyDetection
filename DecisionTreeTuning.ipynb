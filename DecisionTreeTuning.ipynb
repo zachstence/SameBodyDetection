{
 "cells": [
  {
   "cell_type": "code",
   "execution_count": 23,
   "metadata": {},
   "outputs": [],
   "source": [
    "import numpy as np\n",
    "from sklearn.tree import DecisionTreeClassifier\n",
    "from sklearn.model_selection import RandomizedSearchCV"
   ]
  },
  {
   "cell_type": "code",
   "execution_count": 24,
   "metadata": {},
   "outputs": [],
   "source": [
    "import ipynb.fs.full.TrainTest as TrainTest\n",
    "\n",
    "p = 30 # want this to be high\n",
    "w = 4  # want this to be low\n",
    "cw = 9 # want this to be high\n",
    "data = np.load('./data/' + 'p' + str(p) + '_w' + str(w) + '_cw' + str(cw) + '.npy')\n",
    "\n",
    "x_train, y_train, x_test, y_test = TrainTest.get_train_test(data, 0.8)"
   ]
  },
  {
   "cell_type": "code",
   "execution_count": 25,
   "metadata": {},
   "outputs": [
    {
     "name": "stdout",
     "output_type": "stream",
     "text": [
      "Fitting 10 folds for each of 100 candidates, totalling 1000 fits\n"
     ]
    },
    {
     "name": "stderr",
     "output_type": "stream",
     "text": [
      "[Parallel(n_jobs=-1)]: Done 124 tasks      | elapsed:    1.0s\n",
      "[Parallel(n_jobs=-1)]: Done 1000 out of 1000 | elapsed:    5.9s finished\n"
     ]
    },
    {
     "data": {
      "text/plain": [
       "RandomizedSearchCV(cv=10, error_score='raise',\n",
       "          estimator=DecisionTreeClassifier(class_weight=None, criterion='gini', max_depth=None,\n",
       "            max_features=None, max_leaf_nodes=None,\n",
       "            min_impurity_decrease=0.0, min_impurity_split=None,\n",
       "            min_samples_leaf=1, min_samples_split=2,\n",
       "            min_weight_fraction_leaf=0.0, presort=False, random_state=None,\n",
       "            splitter='best'),\n",
       "          fit_params=None, iid=True, n_iter=100, n_jobs=-1,\n",
       "          param_distributions={'splitter': ['best', 'random'], 'presort': [True, False], 'criterion': ['gini', 'entropy'], 'max_depth': [None, 10, 20, 30, 40, 50, 60, 70, 80, 90, 100], 'min_samples_leaf': [1, 2, 4], 'max_features': ['auto', 'log2', 3, 4, 5, None], 'class_weight': [None, 'balanced'], 'min_samples_split': [2, 5, 10]},\n",
       "          pre_dispatch='2*n_jobs', random_state=42, refit=True,\n",
       "          return_train_score='warn', scoring=None, verbose=1)"
      ]
     },
     "execution_count": 25,
     "metadata": {},
     "output_type": "execute_result"
    }
   ],
   "source": [
    "dt = DecisionTreeClassifier()\n",
    "\n",
    "param_options = {\n",
    "    'criterion' : ['gini', 'entropy'],\n",
    "    'splitter' : ['best', 'random'],\n",
    "    'max_depth' : [None, 10, 20, 30, 40, 50, 60, 70, 80, 90, 100],\n",
    "    'min_samples_split' : [2, 5, 10],\n",
    "    'min_samples_leaf' : [1, 2, 4],\n",
    "#     'min_weight_fraction_leaf' : [],\n",
    "    'max_features' : ['auto', 'log2', 3, 4, 5, None],\n",
    "#     'random_state' : [],\n",
    "#     'max_leaf_nodes' : [],\n",
    "#     'min_impurity_decrease' : [],\n",
    "#     'min_impurity_split' : [],\n",
    "    'class_weight' : [None, 'balanced'],\n",
    "    'presort' : [True, False]\n",
    "}\n",
    "\n",
    "dt_random = RandomizedSearchCV(estimator = dt, param_distributions = param_options, \n",
    "    n_iter = 100, cv = 10, verbose=1, random_state=42, n_jobs = -1)\n",
    "\n",
    "dt_random.fit(x_train, y_train)"
   ]
  },
  {
   "cell_type": "code",
   "execution_count": 26,
   "metadata": {},
   "outputs": [
    {
     "data": {
      "text/plain": [
       "{'class_weight': 'balanced',\n",
       " 'criterion': 'entropy',\n",
       " 'max_depth': 100,\n",
       " 'max_features': 5,\n",
       " 'min_samples_leaf': 1,\n",
       " 'min_samples_split': 2,\n",
       " 'presort': False,\n",
       " 'splitter': 'best'}"
      ]
     },
     "execution_count": 26,
     "metadata": {},
     "output_type": "execute_result"
    }
   ],
   "source": [
    "best = dt_random.best_params_\n",
    "best"
   ]
  },
  {
   "cell_type": "code",
   "execution_count": 27,
   "metadata": {},
   "outputs": [
    {
     "name": "stdout",
     "output_type": "stream",
     "text": [
      "Average accuracy:  0.6910126582278482\n",
      "Average precision: 0.631180179467885\n",
      "Average F1 Score:  0.6807788558361927\n"
     ]
    }
   ],
   "source": [
    "from sklearn.metrics import accuracy_score, precision_score, f1_score\n",
    "\n",
    "dt = DecisionTreeClassifier(**best)\n",
    "\n",
    "avg_acc = 0\n",
    "avg_prec = 0\n",
    "avg_f1 = 0\n",
    "num = 20\n",
    "for i in range(num):\n",
    "    dt.fit(x_train, y_train)\n",
    "    \n",
    "    y_pred = dt.predict(x_test)\n",
    "    \n",
    "    avg_acc += accuracy_score(y_test, y_pred)\n",
    "    avg_prec += precision_score(y_test, y_pred)\n",
    "    avg_f1 += f1_score(y_test, y_pred)\n",
    "\n",
    "avg_acc /= num\n",
    "avg_prec /= num\n",
    "avg_f1 /= num\n",
    "\n",
    "print('Average accuracy:  ' + str(avg_acc))\n",
    "print('Average precision: ' + str(avg_prec))\n",
    "print('Average F1 Score:  ' + str(avg_f1))"
   ]
  }
 ],
 "metadata": {
  "kernelspec": {
   "display_name": "Python 3",
   "language": "python",
   "name": "python3"
  },
  "language_info": {
   "codemirror_mode": {
    "name": "ipython",
    "version": 3
   },
   "file_extension": ".py",
   "mimetype": "text/x-python",
   "name": "python",
   "nbconvert_exporter": "python",
   "pygments_lexer": "ipython3",
   "version": "3.5.2"
  }
 },
 "nbformat": 4,
 "nbformat_minor": 2
}
