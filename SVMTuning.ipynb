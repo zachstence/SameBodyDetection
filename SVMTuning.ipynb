{
 "cells": [
  {
   "cell_type": "code",
   "execution_count": 44,
   "metadata": {},
   "outputs": [],
   "source": [
    "import numpy as np\n",
    "from sklearn.svm import SVC\n",
    "from sklearn.model_selection import RandomizedSearchCV\n",
    "import scipy"
   ]
  },
  {
   "cell_type": "code",
   "execution_count": 45,
   "metadata": {},
   "outputs": [],
   "source": [
    "import ipynb.fs.full.TrainTest as TrainTest\n",
    "\n",
    "p = 30 # want this to be high\n",
    "w = 4  # want this to be low\n",
    "cw = 9 # want this to be high\n",
    "data = np.load('./data/' + 'p' + str(p) + '_w' + str(w) + '_cw' + str(cw) + '.npy')\n",
    "\n",
    "x_train, y_train, x_test, y_test = TrainTest.get_train_test(data, 0.8)"
   ]
  },
  {
   "cell_type": "code",
   "execution_count": 46,
   "metadata": {},
   "outputs": [
    {
     "name": "stdout",
     "output_type": "stream",
     "text": [
      "Fitting 3 folds for each of 100 candidates, totalling 300 fits\n"
     ]
    },
    {
     "name": "stderr",
     "output_type": "stream",
     "text": [
      "[Parallel(n_jobs=-1)]: Done  53 tasks      | elapsed:    3.3s\n",
      "[Parallel(n_jobs=-1)]: Done 233 tasks      | elapsed:   20.6s\n",
      "[Parallel(n_jobs=-1)]: Done 300 out of 300 | elapsed:   36.7s finished\n"
     ]
    },
    {
     "data": {
      "text/plain": [
       "RandomizedSearchCV(cv=3, error_score='raise',\n",
       "          estimator=SVC(C=1.0, cache_size=200, class_weight=None, coef0=0.0,\n",
       "  decision_function_shape='ovr', degree=3, gamma='auto', kernel='rbf',\n",
       "  max_iter=-1, probability=False, random_state=None, shrinking=True,\n",
       "  tol=0.001, verbose=False),\n",
       "          fit_params=None, iid=True, n_iter=100, n_jobs=-1,\n",
       "          param_distributions={'probability': [True, False], 'shrinking': [True, False], 'degree': [2, 3, 4, 5], 'coef0': [0.0, 0.1, 0.2, 0.3, 0.4, 0.5, 0.6, 0.7, 0.8, 0.9, 1.0], 'C': <scipy.stats._distn_infrastructure.rv_frozen object at 0x7f3148448eb8>, 'gamma': <scipy.stats._distn_infrastructure.rv_frozen object at 0x7f3148448748>, 'kernel': ['linear', 'poly', 'rbf', 'sigmoid'], 'class_weight': [None, 'balanced'], 'tol': [0.001, 0.0001]},\n",
       "          pre_dispatch='2*n_jobs', random_state=42, refit=True,\n",
       "          return_train_score='warn', scoring=None, verbose=1)"
      ]
     },
     "execution_count": 46,
     "metadata": {},
     "output_type": "execute_result"
    }
   ],
   "source": [
    "svm = SVC()\n",
    "\n",
    "param_options = {\n",
    "    'C' : scipy.stats.expon(scale=100),\n",
    "    'kernel' : ['linear', 'poly', 'rbf', 'sigmoid'],\n",
    "    'degree' : [2, 3, 4, 5],\n",
    "    'gamma' : scipy.stats.expon(scale=.1),\n",
    "    'coef0' : [0.0, 0.1, 0.2, 0.3, 0.4, 0.5, 0.6, 0.7, 0.8, 0.9, 1.0],\n",
    "    'probability' : [True, False],\n",
    "    'shrinking' : [True, False],\n",
    "    'tol' : [1e-3, 1e-4],\n",
    "#     'cache_size' : [],\n",
    "    'class_weight' : [None, 'balanced'],\n",
    "#     'verbose' : [],\n",
    "#     'max_iter' : [],\n",
    "#     'decision_function_shape' : []\n",
    "#     'random_state' : []\n",
    "}\n",
    "\n",
    "svm_random = RandomizedSearchCV(estimator = svm, param_distributions = param_options, \n",
    "    n_iter = 100, cv = 3, verbose=1, random_state=42, n_jobs = -1)\n",
    "\n",
    "svm_random.fit(x_train, y_train)"
   ]
  },
  {
   "cell_type": "code",
   "execution_count": 47,
   "metadata": {},
   "outputs": [
    {
     "data": {
      "text/plain": [
       "{'C': 47.234776158326284,\n",
       " 'class_weight': None,\n",
       " 'coef0': 0.1,\n",
       " 'degree': 5,\n",
       " 'gamma': 0.42189593008315573,\n",
       " 'kernel': 'rbf',\n",
       " 'probability': True,\n",
       " 'shrinking': False,\n",
       " 'tol': 0.001}"
      ]
     },
     "execution_count": 47,
     "metadata": {},
     "output_type": "execute_result"
    }
   ],
   "source": [
    "best = svm_random.best_params_\n",
    "best"
   ]
  },
  {
   "cell_type": "code",
   "execution_count": 48,
   "metadata": {},
   "outputs": [
    {
     "name": "stdout",
     "output_type": "stream",
     "text": [
      "Average accuracy:  0.6734177215189874\n",
      "Average precision: 0.7468354430379749\n",
      "Average F1 Score:  0.6465753424657537\n"
     ]
    }
   ],
   "source": [
    "from sklearn.metrics import accuracy_score, precision_score, f1_score\n",
    "\n",
    "svm = SVC(**best)\n",
    "\n",
    "avg_acc = 0\n",
    "avg_prec = 0\n",
    "avg_f1 = 0\n",
    "num = 20\n",
    "for i in range(num):\n",
    "    svm.fit(x_train, y_train)\n",
    "    \n",
    "    y_pred = svm.predict(x_test)\n",
    "    \n",
    "    avg_acc += accuracy_score(y_test, y_pred)\n",
    "    avg_prec += precision_score(y_test, y_pred)\n",
    "    avg_f1 += f1_score(y_test, y_pred)\n",
    "\n",
    "avg_acc /= num\n",
    "avg_prec /= num\n",
    "avg_f1 /= num\n",
    "\n",
    "print('Average accuracy:  ' + str(avg_acc))\n",
    "print('Average precision: ' + str(avg_prec))\n",
    "print('Average F1 Score:  ' + str(avg_f1))"
   ]
  }
 ],
 "metadata": {
  "kernelspec": {
   "display_name": "Python 3",
   "language": "python",
   "name": "python3"
  },
  "language_info": {
   "codemirror_mode": {
    "name": "ipython",
    "version": 3
   },
   "file_extension": ".py",
   "mimetype": "text/x-python",
   "name": "python",
   "nbconvert_exporter": "python",
   "pygments_lexer": "ipython3",
   "version": "3.5.2"
  }
 },
 "nbformat": 4,
 "nbformat_minor": 2
}
