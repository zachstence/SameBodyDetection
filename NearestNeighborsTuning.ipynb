{
 "cells": [
  {
   "cell_type": "code",
   "execution_count": 38,
   "metadata": {},
   "outputs": [],
   "source": [
    "import numpy as np\n",
    "from sklearn.neighbors import KNeighborsClassifier\n",
    "from sklearn.model_selection import GridSearchCV"
   ]
  },
  {
   "cell_type": "code",
   "execution_count": 39,
   "metadata": {},
   "outputs": [],
   "source": [
    "import ipynb.fs.full.TrainTest as TrainTest\n",
    "\n",
    "p = 30 # want this to be high\n",
    "w = 4  # want this to be low\n",
    "cw = 9 # want this to be high\n",
    "act = [3]\n",
    "# act_string = ''\n",
    "act_string = '_a' + str(act)\n",
    "nperseg = 2\n",
    "# data = np.load('./data/running/nperseg' + str(nperseg) + '/' + 'p' + str(p) + act_string + '_w' + str(w) + '_cw' + str(cw) + '.npy')\n",
    "\n",
    "data = np.load('./data/running/nperseg2/p30_a[2, 3]_w4_cw9.npy')\n",
    "\n",
    "\n",
    "x_train, y_train, x_test, y_test = TrainTest.get_train_test(data, 0.8)"
   ]
  },
  {
   "cell_type": "markdown",
   "metadata": {},
   "source": [
    "Do RandomizedSearchCV"
   ]
  },
  {
   "cell_type": "code",
   "execution_count": 40,
   "metadata": {},
   "outputs": [],
   "source": [
    "def getBestParams(clf, param_options):\n",
    "    clf_grid = GridSearchCV(estimator = clf, param_grid = param_options, cv = 3, verbose=1, n_jobs = -1)\n",
    "    clf_grid.fit(x_train, y_train)\n",
    "    return clf_grid.best_params_"
   ]
  },
  {
   "cell_type": "code",
   "execution_count": 41,
   "metadata": {},
   "outputs": [
    {
     "name": "stdout",
     "output_type": "stream",
     "text": [
      "Fitting 3 folds for each of 800 candidates, totalling 2400 fits\n"
     ]
    },
    {
     "name": "stderr",
     "output_type": "stream",
     "text": [
      "[Parallel(n_jobs=-1)]: Done  34 tasks      | elapsed:    5.3s\n",
      "[Parallel(n_jobs=-1)]: Done 184 tasks      | elapsed:   34.0s\n",
      "[Parallel(n_jobs=-1)]: Done 434 tasks      | elapsed:  1.4min\n",
      "[Parallel(n_jobs=-1)]: Done 784 tasks      | elapsed:  2.5min\n",
      "[Parallel(n_jobs=-1)]: Done 1234 tasks      | elapsed:  3.9min\n",
      "[Parallel(n_jobs=-1)]: Done 1784 tasks      | elapsed:  5.8min\n",
      "[Parallel(n_jobs=-1)]: Done 2400 out of 2400 | elapsed:  8.2min finished\n"
     ]
    },
    {
     "name": "stdout",
     "output_type": "stream",
     "text": [
      "Average accuracy:  0.6932203389830508\n",
      "Average precision: 0.6618075801749271\n",
      "Average F1 Score:  0.7149606299212597\n"
     ]
    }
   ],
   "source": [
    "from sklearn.metrics import accuracy_score, precision_score, f1_score\n",
    "\n",
    "# options for nearest neighbors\n",
    "param_options = {\n",
    "    'n_neighbors' : range(1, 6),\n",
    "    'weights' : ['uniform', 'distance'],\n",
    "    'algorithm' : ['auto'],\n",
    "    'leaf_size' : [10, 20, 30, 40, 50],\n",
    "    'p' : [1, 2, 3, 4],\n",
    "    'metric' : ['euclidean', 'manhattan', 'chebyshev', 'minkowski'],\n",
    "#     'metric_params' : [],\n",
    "#     'n_jobs' : []\n",
    "}\n",
    "\n",
    "knn = KNeighborsClassifier(**getBestParams(KNeighborsClassifier(), param_options))\n",
    "\n",
    "avg_acc = 0\n",
    "avg_prec = 0\n",
    "avg_f1 = 0\n",
    "num = 10\n",
    "for i in range(num):\n",
    "    knn.fit(x_train, y_train)\n",
    "    \n",
    "    y_pred = knn.predict(x_test)\n",
    "    \n",
    "    avg_acc += accuracy_score(y_test, y_pred)\n",
    "    avg_prec += precision_score(y_test, y_pred)\n",
    "    avg_f1 += f1_score(y_test, y_pred)\n",
    "\n",
    "avg_acc /= num\n",
    "avg_prec /= num\n",
    "avg_f1 /= num\n",
    "\n",
    "print('Average accuracy:  ' + str(avg_acc))\n",
    "print('Average precision: ' + str(avg_prec))\n",
    "print('Average F1 Score:  ' + str(avg_f1))"
   ]
  }
 ],
 "metadata": {
  "kernelspec": {
   "display_name": "Python 3",
   "language": "python",
   "name": "python3"
  },
  "language_info": {
   "codemirror_mode": {
    "name": "ipython",
    "version": 3
   },
   "file_extension": ".py",
   "mimetype": "text/x-python",
   "name": "python",
   "nbconvert_exporter": "python",
   "pygments_lexer": "ipython3",
   "version": "3.5.2"
  }
 },
 "nbformat": 4,
 "nbformat_minor": 2
}
