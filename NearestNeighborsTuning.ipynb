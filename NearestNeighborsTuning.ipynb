{
 "cells": [
  {
   "cell_type": "code",
   "execution_count": 37,
   "metadata": {},
   "outputs": [],
   "source": [
    "import numpy as np\n",
    "from sklearn.neighbors import KNeighborsClassifier\n",
    "from sklearn.model_selection import GridSearchCV"
   ]
  },
  {
   "cell_type": "code",
   "execution_count": 38,
   "metadata": {},
   "outputs": [],
   "source": [
    "import ipynb.fs.full.TrainTest as TrainTest\n",
    "\n",
    "p = 30 # want this to be high\n",
    "w = 4  # want this to be low\n",
    "cw = 9 # want this to be high\n",
    "data = np.load('./data/' + 'p' + str(p) + '_w' + str(w) + '_cw' + str(cw) + '.npy')\n",
    "\n",
    "x_train, y_train, x_test, y_test = TrainTest.get_train_test(data, 0.8)"
   ]
  },
  {
   "cell_type": "markdown",
   "metadata": {},
   "source": [
    "Do RandomizedSearchCV"
   ]
  },
  {
   "cell_type": "code",
   "execution_count": 39,
   "metadata": {},
   "outputs": [
    {
     "name": "stdout",
     "output_type": "stream",
     "text": [
      "Fitting 10 folds for each of 800 candidates, totalling 8000 fits\n"
     ]
    },
    {
     "name": "stderr",
     "output_type": "stream",
     "text": [
      "[Parallel(n_jobs=-1)]: Done 124 tasks      | elapsed:    1.1s\n",
      "[Parallel(n_jobs=-1)]: Done 1024 tasks      | elapsed:    7.4s\n",
      "[Parallel(n_jobs=-1)]: Done 2524 tasks      | elapsed:   19.4s\n",
      "[Parallel(n_jobs=-1)]: Done 4624 tasks      | elapsed:   38.5s\n",
      "[Parallel(n_jobs=-1)]: Done 6037 tasks      | elapsed:   56.0s\n",
      "[Parallel(n_jobs=-1)]: Done 7687 tasks      | elapsed:  1.3min\n",
      "[Parallel(n_jobs=-1)]: Done 8000 out of 8000 | elapsed:  1.5min finished\n"
     ]
    },
    {
     "data": {
      "text/plain": [
       "GridSearchCV(cv=10, error_score='raise',\n",
       "       estimator=KNeighborsClassifier(algorithm='auto', leaf_size=30, metric='minkowski',\n",
       "           metric_params=None, n_jobs=1, n_neighbors=5, p=2,\n",
       "           weights='uniform'),\n",
       "       fit_params=None, iid=True, n_jobs=-1,\n",
       "       param_grid={'leaf_size': [10, 20, 30, 40, 50], 'algorithm': ['auto'], 'weights': ['uniform', 'distance'], 'metric': ['euclidean', 'manhattan', 'chebyshev', 'minkowski'], 'p': [1, 2, 3, 4], 'n_neighbors': range(1, 6)},\n",
       "       pre_dispatch='2*n_jobs', refit=True, return_train_score='warn',\n",
       "       scoring=None, verbose=1)"
      ]
     },
     "execution_count": 39,
     "metadata": {},
     "output_type": "execute_result"
    }
   ],
   "source": [
    "knn = KNeighborsClassifier()\n",
    "\n",
    "param_options = {\n",
    "    'n_neighbors' : range(1, 6),\n",
    "    'weights' : ['uniform', 'distance'],\n",
    "    'algorithm' : ['auto'],\n",
    "    'leaf_size' : [10, 20, 30, 40, 50],\n",
    "    'p' : [1, 2, 3, 4],\n",
    "    'metric' : ['euclidean', 'manhattan', 'chebyshev', 'minkowski'],\n",
    "#     'metric_params' : [],\n",
    "#     'n_jobs' : []\n",
    "}\n",
    "\n",
    "knn_grid = GridSearchCV(estimator = knn, param_grid = param_options, cv = 10, verbose=1, n_jobs = -1)\n",
    "\n",
    "knn_grid.fit(x_train, y_train)"
   ]
  },
  {
   "cell_type": "code",
   "execution_count": 40,
   "metadata": {},
   "outputs": [
    {
     "data": {
      "text/plain": [
       "{'algorithm': 'auto',\n",
       " 'leaf_size': 10,\n",
       " 'metric': 'euclidean',\n",
       " 'n_neighbors': 1,\n",
       " 'p': 1,\n",
       " 'weights': 'uniform'}"
      ]
     },
     "execution_count": 40,
     "metadata": {},
     "output_type": "execute_result"
    }
   ],
   "source": [
    "best = knn_grid.best_params_\n",
    "best"
   ]
  },
  {
   "cell_type": "code",
   "execution_count": 41,
   "metadata": {},
   "outputs": [
    {
     "name": "stdout",
     "output_type": "stream",
     "text": [
      "Average accuracy:  0.8202531645569622\n",
      "Average precision: 0.7869565217391303\n",
      "Average F1 Score:  0.8360277136258658\n"
     ]
    }
   ],
   "source": [
    "from sklearn.metrics import accuracy_score, precision_score, f1_score\n",
    "\n",
    "knn = KNeighborsClassifier(**best)\n",
    "\n",
    "avg_acc = 0\n",
    "avg_prec = 0\n",
    "avg_f1 = 0\n",
    "num = 10\n",
    "for i in range(num):\n",
    "    knn.fit(x_train, y_train)\n",
    "    \n",
    "    y_pred = knn.predict(x_test)\n",
    "    \n",
    "    avg_acc += accuracy_score(y_test, y_pred)\n",
    "    avg_prec += precision_score(y_test, y_pred)\n",
    "    avg_f1 += f1_score(y_test, y_pred)\n",
    "\n",
    "avg_acc /= num\n",
    "avg_prec /= num\n",
    "avg_f1 /= num\n",
    "\n",
    "print('Average accuracy:  ' + str(avg_acc))\n",
    "print('Average precision: ' + str(avg_prec))\n",
    "print('Average F1 Score:  ' + str(avg_f1))"
   ]
  }
 ],
 "metadata": {
  "kernelspec": {
   "display_name": "Python 3",
   "language": "python",
   "name": "python3"
  },
  "language_info": {
   "codemirror_mode": {
    "name": "ipython",
    "version": 3
   },
   "file_extension": ".py",
   "mimetype": "text/x-python",
   "name": "python",
   "nbconvert_exporter": "python",
   "pygments_lexer": "ipython3",
   "version": "3.5.2"
  }
 },
 "nbformat": 4,
 "nbformat_minor": 2
}
