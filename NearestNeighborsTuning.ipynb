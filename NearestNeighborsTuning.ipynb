{
 "cells": [
  {
   "cell_type": "code",
   "execution_count": 55,
   "metadata": {},
   "outputs": [],
   "source": [
    "import numpy as np\n",
    "from sklearn.neighbors import KNeighborsClassifier\n",
    "from sklearn.model_selection import GridSearchCV\n",
    "import time"
   ]
  },
  {
   "cell_type": "code",
   "execution_count": 56,
   "metadata": {},
   "outputs": [],
   "source": [
    "import ipynb.fs.full.TrainTest as TrainTest\n",
    "\n",
    "nperseg = 2\n",
    "p = 30 # want this to be high\n",
    "a = [2, 3]\n",
    "w = 4  # want this to be low\n",
    "cw = 9 # want this to be high\n",
    "\n",
    "path = './data/created/nperseg' + str(nperseg) + '/'\n",
    "file = 'p' + str(p) + '_a' + str(a) + '_w' + str(w) + '_cw' + str(cw)\n",
    "ext = '.npy'\n",
    "data = np.load(path + file + ext)\n",
    "\n",
    "x_train, y_train, x_test, y_test = TrainTest.get_train_test(data, 0.8)"
   ]
  },
  {
   "cell_type": "markdown",
   "metadata": {},
   "source": [
    "Do RandomizedSearchCV"
   ]
  },
  {
   "cell_type": "code",
   "execution_count": 57,
   "metadata": {},
   "outputs": [],
   "source": [
    "def getBestParams(clf, param_options):\n",
    "    clf_grid = GridSearchCV(estimator = clf, param_grid = param_options, cv = 3, verbose=1, n_jobs = -1)\n",
    "    clf_grid.fit(x_train, y_train)\n",
    "    return clf_grid.best_params_"
   ]
  },
  {
   "cell_type": "code",
   "execution_count": 58,
   "metadata": {},
   "outputs": [
    {
     "name": "stdout",
     "output_type": "stream",
     "text": [
      "Fitting 3 folds for each of 800 candidates, totalling 2400 fits\n"
     ]
    },
    {
     "name": "stderr",
     "output_type": "stream",
     "text": [
      "[Parallel(n_jobs=-1)]: Done  34 tasks      | elapsed:    4.9s\n",
      "[Parallel(n_jobs=-1)]: Done 184 tasks      | elapsed:   31.2s\n",
      "[Parallel(n_jobs=-1)]: Done 434 tasks      | elapsed:  1.2min\n",
      "[Parallel(n_jobs=-1)]: Done 784 tasks      | elapsed:  2.3min\n",
      "[Parallel(n_jobs=-1)]: Done 1234 tasks      | elapsed:  3.7min\n",
      "[Parallel(n_jobs=-1)]: Done 1784 tasks      | elapsed:  5.7min\n",
      "[Parallel(n_jobs=-1)]: Done 2400 out of 2400 | elapsed:  8.2min finished\n"
     ]
    }
   ],
   "source": [
    "from sklearn.metrics import accuracy_score, precision_score, f1_score\n",
    "\n",
    "# options for nearest neighbors\n",
    "param_options = {\n",
    "    'n_neighbors' : range(1, 6),\n",
    "    'weights' : ['uniform', 'distance'],\n",
    "    'algorithm' : ['auto'],\n",
    "    'leaf_size' : [10, 20, 30, 40, 50],\n",
    "    'p' : [1, 2, 3, 4],\n",
    "    'metric' : ['euclidean', 'manhattan', 'chebyshev', 'minkowski'],\n",
    "#     'metric_params' : [],\n",
    "#     'n_jobs' : []\n",
    "}\n",
    "\n",
    "best = getBestParams(KNeighborsClassifier(), param_options)\n",
    "knn = KNeighborsClassifier(**best)\n",
    "\n",
    "avg_acc = 0\n",
    "avg_prec = 0\n",
    "avg_f1 = 0\n",
    "avg_train_time = 0\n",
    "avg_test_time = 0\n",
    "\n",
    "num = 10\n",
    "for i in range(num):\n",
    "    train_start = time.clock()\n",
    "    knn.fit(x_train, y_train)\n",
    "    train_end = time.clock()\n",
    "    \n",
    "    test_start = time.clock()\n",
    "    y_pred = knn.predict(x_test)\n",
    "    test_end = time.clock()\n",
    "    \n",
    "    avg_acc += accuracy_score(y_test, y_pred)\n",
    "    avg_prec += precision_score(y_test, y_pred)\n",
    "    avg_f1 += f1_score(y_test, y_pred)\n",
    "    avg_train_time += (train_end - train_start)\n",
    "    avg_test_time += (test_end - test_start)\n",
    "\n",
    "avg_acc /= num\n",
    "avg_prec /= num\n",
    "avg_f1 /= num\n",
    "avg_train_time /= num\n",
    "avg_test_time /= num\n",
    "\n",
    "with open('./results/knn/' + file + '.txt', 'a+') as f:\n",
    "    f.write('(nperseg = {}, best = {})\\n'.format(nperseg, best))\n",
    "    f.write('trials         : {}\\n'.format(num))\n",
    "    f.write('avg acc        : {}\\n'.format(avg_acc))\n",
    "    f.write('avg prec       : {}\\n'.format(avg_prec))\n",
    "    f.write('avg f1         : {}\\n'.format(avg_f1))\n",
    "    f.write('avg_train_time : {}\\n'.format(avg_train_time))\n",
    "    f.write('avg_test_time  : {}\\n'.format(avg_test_time))\n",
    "    f.write('-----\\n\\n')"
   ]
  }
 ],
 "metadata": {
  "kernelspec": {
   "display_name": "Python 3",
   "language": "python",
   "name": "python3"
  },
  "language_info": {
   "codemirror_mode": {
    "name": "ipython",
    "version": 3
   },
   "file_extension": ".py",
   "mimetype": "text/x-python",
   "name": "python",
   "nbconvert_exporter": "python",
   "pygments_lexer": "ipython3",
   "version": "3.5.2"
  }
 },
 "nbformat": 4,
 "nbformat_minor": 2
}
