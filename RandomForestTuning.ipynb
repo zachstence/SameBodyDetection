{
 "cells": [
  {
   "cell_type": "code",
   "execution_count": 7,
   "metadata": {},
   "outputs": [],
   "source": [
    "import numpy as np\n",
    "from sklearn.ensemble import RandomForestClassifier\n",
    "from sklearn.model_selection import RandomizedSearchCV"
   ]
  },
  {
   "cell_type": "markdown",
   "metadata": {},
   "source": [
    "Load dataset of choice and get train/test split"
   ]
  },
  {
   "cell_type": "code",
   "execution_count": 8,
   "metadata": {},
   "outputs": [],
   "source": [
    "import ipynb.fs.full.TrainTest as TrainTest\n",
    "\n",
    "p = 30 # want this to be high\n",
    "w = 4  # want this to be low\n",
    "cw = 9 # want this to be high\n",
    "# data = np.load('./data/' + 'p' + str(p) + '_w' + str(w) + '_cw' + str(cw) + '.npy')\n",
    "data = np.load('./data/created/nperseg=sqrt/p29_a[2]_w4_cw9.npy')\n",
    "\n",
    "x_train, y_train, x_test, y_test = TrainTest.get_train_test(data, 0.8)"
   ]
  },
  {
   "cell_type": "markdown",
   "metadata": {},
   "source": [
    "Do RandomizedSearchCV"
   ]
  },
  {
   "cell_type": "code",
   "execution_count": 9,
   "metadata": {},
   "outputs": [
    {
     "name": "stdout",
     "output_type": "stream",
     "text": [
      "Fitting 10 folds for each of 100 candidates, totalling 1000 fits\n"
     ]
    },
    {
     "name": "stderr",
     "output_type": "stream",
     "text": [
      "[Parallel(n_jobs=-1)]: Done  34 tasks      | elapsed:   43.9s\n",
      "[Parallel(n_jobs=-1)]: Done 184 tasks      | elapsed:  4.0min\n",
      "[Parallel(n_jobs=-1)]: Done 434 tasks      | elapsed:  9.8min\n",
      "[Parallel(n_jobs=-1)]: Done 784 tasks      | elapsed: 19.7min\n",
      "[Parallel(n_jobs=-1)]: Done 1000 out of 1000 | elapsed: 24.2min finished\n"
     ]
    },
    {
     "data": {
      "text/plain": [
       "RandomizedSearchCV(cv=10, error_score='raise',\n",
       "          estimator=RandomForestClassifier(bootstrap=True, class_weight=None, criterion='gini',\n",
       "            max_depth=None, max_features='auto', max_leaf_nodes=None,\n",
       "            min_impurity_decrease=0.0, min_impurity_split=None,\n",
       "            min_samples_leaf=1, min_samples_split=2,\n",
       "            min_weight_fraction_leaf=0.0, n_estimators=10, n_jobs=1,\n",
       "            oob_score=False, random_state=None, verbose=0,\n",
       "            warm_start=False),\n",
       "          fit_params=None, iid=True, n_iter=100, n_jobs=-1,\n",
       "          param_distributions={'bootstrap': [True, False], 'max_depth': [None, 10, 20, 30, 40, 50, 60, 70, 80, 90, 100], 'min_samples_leaf': [1, 2, 4], 'min_samples_split': [2, 5, 10], 'max_features': ['auto', 3, 4, 5], 'n_estimators': range(100, 2001, 100)},\n",
       "          pre_dispatch='2*n_jobs', random_state=42, refit=True,\n",
       "          return_train_score='warn', scoring=None, verbose=1)"
      ]
     },
     "execution_count": 9,
     "metadata": {},
     "output_type": "execute_result"
    }
   ],
   "source": [
    "rf = RandomForestClassifier()\n",
    "\n",
    "param_options = {\n",
    "    'n_estimators' : range(100, 2001, 100),\n",
    "    # 'criterion' : [],\n",
    "    'max_features' : ['auto', 3, 4, 5],\n",
    "    'max_depth' : [None, 10, 20, 30, 40, 50, 60, 70, 80, 90, 100],\n",
    "    'min_samples_split' : [2, 5, 10],\n",
    "    'min_samples_leaf' : [1, 2, 4],\n",
    "    # 'min_weight_fraction_leaf' : [],\n",
    "    # 'max_leaf_nodes' : [],\n",
    "    # 'min_impurity_split' : [],\n",
    "    # 'min_impurity_decrease' : [],\n",
    "    'bootstrap' : [True, False]\n",
    "    # 'oob_score' : [],\n",
    "}\n",
    "\n",
    "rf_random = RandomizedSearchCV(estimator = rf, param_distributions = param_options, \n",
    "    n_iter = 100, cv =10, verbose=1, random_state=42, n_jobs = -1)\n",
    "\n",
    "rf_random.fit(x_train, y_train)"
   ]
  },
  {
   "cell_type": "code",
   "execution_count": 10,
   "metadata": {},
   "outputs": [
    {
     "data": {
      "text/plain": [
       "{'bootstrap': False,\n",
       " 'max_depth': 40,\n",
       " 'max_features': 'auto',\n",
       " 'min_samples_leaf': 1,\n",
       " 'min_samples_split': 2,\n",
       " 'n_estimators': 600}"
      ]
     },
     "execution_count": 10,
     "metadata": {},
     "output_type": "execute_result"
    }
   ],
   "source": [
    "best = rf_random.best_params_\n",
    "best"
   ]
  },
  {
   "cell_type": "code",
   "execution_count": 11,
   "metadata": {},
   "outputs": [
    {
     "name": "stdout",
     "output_type": "stream",
     "text": [
      "Average accuracy:  0.7662025316455698\n",
      "Average precision: 0.8102802210423927\n",
      "Average F1 Score:  0.774768758337344\n"
     ]
    }
   ],
   "source": [
    "from sklearn.metrics import accuracy_score, precision_score, f1_score\n",
    "\n",
    "rf = RandomForestClassifier(**best)\n",
    "\n",
    "avg_acc = 0\n",
    "avg_prec = 0\n",
    "avg_f1 = 0\n",
    "num = 20\n",
    "for i in range(num):\n",
    "    rf.fit(x_train, y_train)\n",
    "    \n",
    "    y_pred = rf.predict(x_test)\n",
    "    \n",
    "    avg_acc += accuracy_score(y_test, y_pred)\n",
    "    avg_prec += precision_score(y_test, y_pred)\n",
    "    avg_f1 += f1_score(y_test, y_pred)\n",
    "\n",
    "avg_acc /= num\n",
    "avg_prec /= num\n",
    "avg_f1 /= num\n",
    "\n",
    "print('Average accuracy:  ' + str(avg_acc))\n",
    "print('Average precision: ' + str(avg_prec))\n",
    "print('Average F1 Score:  ' + str(avg_f1))"
   ]
  }
 ],
 "metadata": {
  "kernelspec": {
   "display_name": "Python 3",
   "language": "python",
   "name": "python3"
  },
  "language_info": {
   "codemirror_mode": {
    "name": "ipython",
    "version": 3
   },
   "file_extension": ".py",
   "mimetype": "text/x-python",
   "name": "python",
   "nbconvert_exporter": "python",
   "pygments_lexer": "ipython3",
   "version": "3.5.2"
  }
 },
 "nbformat": 4,
 "nbformat_minor": 2
}
